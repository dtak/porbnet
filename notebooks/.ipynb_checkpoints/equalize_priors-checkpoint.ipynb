{
 "cells": [
  {
   "cell_type": "code",
   "execution_count": 87,
   "metadata": {},
   "outputs": [],
   "source": [
    "import GPy\n",
    "import numpy as np\n",
    "import matplotlib.pyplot as plt"
   ]
  },
  {
   "cell_type": "code",
   "execution_count": 88,
   "metadata": {},
   "outputs": [],
   "source": [
    "x_plot = np.linspace(0,1,1000).reshape(-1,1)"
   ]
  },
  {
   "cell_type": "code",
   "execution_count": 89,
   "metadata": {},
   "outputs": [],
   "source": [
    "def plot_stationarity(x,f,h):\n",
    "\n",
    "    # Distances between points\n",
    "    dx = x[1:] - x[:-1]\n",
    "    if dx.max() - dx.min() > 1e2 or np.any(dx<0):\n",
    "        print('x needs to be increasing and evenly spaced')\n",
    "        return\n",
    "    dx = np.cumsum(np.concatenate([np.array([0]),dx]))\n",
    "    h_idx = np.argmin(np.abs(dx - h[:,np.newaxis]),axis=1) #Closest multiple of dx to h\n",
    "\n",
    "    # Covariances at offset h\n",
    "    C = np.cov(f.T)\n",
    "    Ch = [np.diagonal(C,offset=h) for h in h_idx]\n",
    "\n",
    "    #Ch_mat = np.array([np.concatenate([row,np.full(x.size - row.size,np.nan)]) for row in Ch])\n",
    "    pad = [(int(np.floor((x.size-row.size)/2)),int(np.ceil((x.size-row.size)/2))) for row in Ch]\n",
    "    Ch_mat = np.array([\\\n",
    "        np.concatenate([np.full(p[0],np.nan), row,np.full(p[1],np.nan)]) \\\n",
    "        for (p,row) in zip(pad,Ch)])\n",
    "\n",
    "    # Mean\n",
    "    #mean = np.mean(f, axis=0)\n",
    "\n",
    "    # Figure\n",
    "    fig, ax = plt.subplots()\n",
    "    ax.plot(x, Ch_mat.T,'o-')\n",
    "    #ax.plot(x, mean, 'o-')\n",
    "    #ax.legend(['h=%.1f, var=%.2E' % (h,stat) for h,stat in zip(dx[h_idx],sta_stat)] + ['Mean'])\n",
    "    #ax.legend(['h=%.1f' % h for h in dx[h_idx]] + ['Mean'])\n",
    "    ax.legend(['k=%.1f' % h for h in dx[h_idx]])\n",
    "\n",
    "    ax.set_xlabel(r'$x$')\n",
    "    #ax.set_ylabel('Cov'+r'$(x-k/2, x+k/2)$')\n",
    "    #ax.set_title('Stationarity')\n",
    "\n",
    "    return(fig)\n",
    "\n",
    "def plot_prior_predictive(x_pred, f_pred, upcross_level=0, bins=20, plot_all_functions=False):\n",
    "    '''\n",
    "    x_pred: (n_gridpoints,) numpy array\n",
    "    f_pred: (n_samples, n_gridpoints) numpy array of function samples\n",
    "    '''\n",
    "    f_pred_mean = np.mean(f_pred,0)\n",
    "    f_pred_std = np.std(f_pred,0)\n",
    "\n",
    "    fig, ax = plt.subplots(1, 2, sharex=True, figsize=(10,4))\n",
    "\n",
    "    # amp. variance\n",
    "    ax[0].plot(x_pred, f_pred_mean)\n",
    "    ax[0].fill_between(x_pred.ravel(), f_pred_mean-f_pred_std, f_pred_mean+f_pred_std, alpha=.5)\n",
    "    ax[0].set_title('amplitude variance')\n",
    "\n",
    "    if plot_all_functions:\n",
    "        ax[0].plot(x_pred, f_pred.T, alpha=.1, color='red')\n",
    "\n",
    "    # upcrossings\n",
    "    u = upcross_level*np.ones(x_pred.shape[0])\n",
    "    up = np.logical_and(f_pred[:,:-1]<u[:-1], f_pred[:,1:]>u[1:])\n",
    "    idx_up = [np.where(row)[0] for row in up]\n",
    "    x_up = x_pred.ravel()[np.concatenate(idx_up)]\n",
    "    ax[1].hist(x_up, bins=bins)\n",
    "    ax[1].set_title('upcrossings --- total = %.3f' % np.sum(up))\n",
    "    \n",
    "    return fig, ax"
   ]
  },
  {
   "cell_type": "code",
   "execution_count": 120,
   "metadata": {},
   "outputs": [],
   "source": [
    "def count_upcrossings(f_pred, level=0):\n",
    "    u = level*np.ones(f_pred.shape[1])\n",
    "    upcross = np.logical_and(f_pred[:,:-1]<u[:-1], f_pred[:,1:]>u[1:])\n",
    "    return np.mean(np.sum(upcross,1))"
   ]
  },
  {
   "cell_type": "code",
   "execution_count": 133,
   "metadata": {},
   "outputs": [],
   "source": [
    "x_plot = np.linspace(0,1,100).reshape(-1,1)"
   ]
  },
  {
   "cell_type": "markdown",
   "metadata": {},
   "source": [
    "## GP"
   ]
  },
  {
   "cell_type": "code",
   "execution_count": 134,
   "metadata": {},
   "outputs": [],
   "source": [
    "kernel = GPy.kern.RBF(input_dim=1, variance=1.0, lengthscale=1.0)\n",
    "f_samp = np.random.multivariate_normal(np.zeros(x_plot.shape[0]),kernel.K(x_plot, x_plot), 1000)"
   ]
  },
  {
   "cell_type": "code",
   "execution_count": 135,
   "metadata": {},
   "outputs": [
    {
     "data": {
      "text/plain": [
       "0.9481372625244973"
      ]
     },
     "execution_count": 135,
     "metadata": {},
     "output_type": "execute_result"
    }
   ],
   "source": [
    "np.mean(np.var(f_samp,0))"
   ]
  },
  {
   "cell_type": "code",
   "execution_count": 136,
   "metadata": {},
   "outputs": [
    {
     "data": {
      "text/plain": [
       "0.161"
      ]
     },
     "execution_count": 136,
     "metadata": {},
     "output_type": "execute_result"
    }
   ],
   "source": [
    "count_upcrossings(f_samp)"
   ]
  },
  {
   "cell_type": "code",
   "execution_count": 97,
   "metadata": {},
   "outputs": [
    {
     "data": {
      "text/plain": [
       "0.15915494309189535"
      ]
     },
     "execution_count": 97,
     "metadata": {},
     "output_type": "execute_result"
    }
   ],
   "source": [
    "1/(2*np.pi*gp.kern.lengthscale.item())"
   ]
  },
  {
   "cell_type": "code",
   "execution_count": 57,
   "metadata": {},
   "outputs": [
    {
     "data": {
      "image/png": "[encoded data removed]",
      "text/plain": [
       "<Figure size 720x288 with 2 Axes>"
      ]
     },
     "metadata": {
      "needs_background": "light"
     },
     "output_type": "display_data"
    }
   ],
   "source": [
    "fig, ax = plot_prior_predictive(x_plot, f_samp, bins=20, plot_all_functions=False)"
   ]
  },
  {
   "cell_type": "code",
   "execution_count": 61,
   "metadata": {},
   "outputs": [
    {
     "data": {
      "image/png": "[encoded data removed]",
      "text/plain": [
       "<Figure size 432x288 with 1 Axes>"
      ]
     },
     "metadata": {
      "needs_background": "light"
     },
     "output_type": "display_data"
    }
   ],
   "source": [
    "fig = plot_stationarity(x_plot.reshape(-1),f_samp,h=np.array([0,1,2]))"
   ]
  },
  {
   "cell_type": "markdown",
   "metadata": {},
   "source": [
    "## BNN"
   ]
  },
  {
   "cell_type": "code",
   "execution_count": 7,
   "metadata": {},
   "outputs": [
    {
     "data": {
      "text/plain": [
       "(100, 1, 1000)"
      ]
     },
     "execution_count": 7,
     "metadata": {},
     "output_type": "execute_result"
    }
   ],
   "source": [
    "y_plot_samp.shape"
   ]
  },
  {
   "cell_type": "markdown",
   "metadata": {},
   "source": [
    "## PoRB-NET"
   ]
  },
  {
   "cell_type": "code",
   "execution_count": null,
   "metadata": {},
   "outputs": [],
   "source": []
  }
 ],
 "metadata": {
  "kernelspec": {
   "display_name": "Python 3",
   "language": "python",
   "name": "python3"
  },
  "language_info": {
   "codemirror_mode": {
    "name": "ipython",
    "version": 3
   },
   "file_extension": ".py",
   "mimetype": "text/x-python",
   "name": "python",
   "nbconvert_exporter": "python",
   "pygments_lexer": "ipython3",
   "version": "3.7.3"
  }
 },
 "nbformat": 4,
 "nbformat_minor": 2
}
